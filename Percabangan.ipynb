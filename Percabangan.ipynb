{
 "cells": [
  {
   "cell_type": "code",
   "execution_count": 1,
   "id": "d9c7e447",
   "metadata": {},
   "outputs": [
    {
     "name": "stdout",
     "output_type": "stream",
     "text": [
      "Isikan bilangan : 10\n",
      "10 adalah bilangan genap\n"
     ]
    }
   ],
   "source": [
    "# Jika terdapat 1 kondisi\n",
    "nilai = int(input(\"Isikan bilangan : \"))\n",
    "sisa_bagi = nilai % 2\n",
    "\n",
    "if sisa_bagi == 0:\n",
    "    print(nilai, \"adalah bilangan genap\")\n",
    "else:\n",
    "    print(f\"{nilai} adalah bilangan ganjil\")"
   ]
  },
  {
   "cell_type": "code",
   "execution_count": 2,
   "id": "eb6e48f2",
   "metadata": {},
   "outputs": [
    {
     "name": "stdout",
     "output_type": "stream",
     "text": [
      "Masukan Nilai Mahasiswa : 100\n",
      "Nilai Huruf Mahasiswa: A\n"
     ]
    }
   ],
   "source": [
    "# Jika terdapat 2 kondisi\n",
    "nilai_mhs = int(input(\"Masukan Nilai Mahasiswa : \"))\n",
    "keterangan = \"\"\n",
    "\n",
    "if nilai_mhs >= 0 and nilai_mhs < 50:\n",
    "    keterangan = \"E\"\n",
    "elif nilai_mhs >=50 and nilai_mhs < 60:\n",
    "    keterangan = \"D\"\n",
    "elif nilai_mhs >= 60 and nilai_mhs < 70:\n",
    "    keterangan = \"C\"\n",
    "elif nilai_mhs >= 70 and nilai_mhs < 80:\n",
    "    keterangan = \"B\"\n",
    "elif nilai_mhs >= 80 and nilai_mhs <= 100:\n",
    "    keterangan = \"A\"\n",
    "    print(\"Nilai Huruf Mahasiswa:\", keterangan)\n",
    "else:\n",
    "    print(\"Tidak ada nilai\")\n"
   ]
  },
  {
   "cell_type": "code",
   "execution_count": null,
   "id": "4cf75280",
   "metadata": {},
   "outputs": [],
   "source": []
  }
 ],
 "metadata": {
  "kernelspec": {
   "display_name": "Python 3 (ipykernel)",
   "language": "python",
   "name": "python3"
  },
  "language_info": {
   "codemirror_mode": {
    "name": "ipython",
    "version": 3
   },
   "file_extension": ".py",
   "mimetype": "text/x-python",
   "name": "python",
   "nbconvert_exporter": "python",
   "pygments_lexer": "ipython3",
   "version": "3.9.12"
  }
 },
 "nbformat": 4,
 "nbformat_minor": 5
}
